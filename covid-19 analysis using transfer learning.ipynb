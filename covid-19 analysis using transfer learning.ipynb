{
  "nbformat": 4,
  "nbformat_minor": 0,
  "metadata": {
    "colab": {
      "name": "Minor.ipynb",
      "provenance": [],
      "collapsed_sections": [],
      "machine_shape": "hm"
    },
    "kernelspec": {
      "name": "python3",
      "display_name": "Python 3"
    },
    "accelerator": "GPU"
  },
  "cells": [
    {
      "cell_type": "code",
      "metadata": {
        "id": "ma-wQmk3lTyu",
        "colab_type": "code",
        "outputId": "d8a7714f-2483-4d66-dd07-86ac88857df8",
        "colab": {
          "base_uri": "https://localhost:8080/",
          "height": 34
        }
      },
      "source": [
        "import tensorflow as tf\n",
        "device_name = tf.test.gpu_device_name()\n",
        "if device_name != '/device:GPU:0':\n",
        "  raise SystemError('GPU device not found')\n",
        "print('Found GPU at: {}'.format(device_name))"
      ],
      "execution_count": 0,
      "outputs": [
        {
          "output_type": "stream",
          "text": [
            "Found GPU at: /device:GPU:0\n"
          ],
          "name": "stdout"
        }
      ]
    },
    {
      "cell_type": "code",
      "metadata": {
        "id": "8ARXNT7iGElH",
        "colab_type": "code",
        "colab": {}
      },
      "source": [
        "import os\n",
        "os.environ[\"CUDA_VISIBLE_DEVICES\"]=\"0\""
      ],
      "execution_count": 0,
      "outputs": []
    },
    {
      "cell_type": "code",
      "metadata": {
        "id": "xq91LYxhGDsV",
        "colab_type": "code",
        "outputId": "06befe53-6579-418d-84dd-638b4fd3e2d8",
        "colab": {
          "base_uri": "https://localhost:8080/",
          "height": 428
        }
      },
      "source": [
        "pip install livelossplot"
      ],
      "execution_count": 0,
      "outputs": [
        {
          "output_type": "stream",
          "text": [
            "Collecting livelossplot\n",
            "  Downloading https://files.pythonhosted.org/packages/7c/e4/a7884b57113dfe84d3565418820feae7a20964438beb1088b2b08820ad94/livelossplot-0.5.0-py3-none-any.whl\n",
            "Requirement already satisfied: matplotlib; python_version >= \"3.6\" in /usr/local/lib/python3.6/dist-packages (from livelossplot) (3.2.1)\n",
            "Requirement already satisfied: ipython in /usr/local/lib/python3.6/dist-packages (from livelossplot) (5.5.0)\n",
            "Requirement already satisfied: pyparsing!=2.0.4,!=2.1.2,!=2.1.6,>=2.0.1 in /usr/local/lib/python3.6/dist-packages (from matplotlib; python_version >= \"3.6\"->livelossplot) (2.4.7)\n",
            "Requirement already satisfied: numpy>=1.11 in /usr/local/lib/python3.6/dist-packages (from matplotlib; python_version >= \"3.6\"->livelossplot) (1.18.4)\n",
            "Requirement already satisfied: python-dateutil>=2.1 in /usr/local/lib/python3.6/dist-packages (from matplotlib; python_version >= \"3.6\"->livelossplot) (2.8.1)\n",
            "Requirement already satisfied: cycler>=0.10 in /usr/local/lib/python3.6/dist-packages (from matplotlib; python_version >= \"3.6\"->livelossplot) (0.10.0)\n",
            "Requirement already satisfied: kiwisolver>=1.0.1 in /usr/local/lib/python3.6/dist-packages (from matplotlib; python_version >= \"3.6\"->livelossplot) (1.2.0)\n",
            "Requirement already satisfied: decorator in /usr/local/lib/python3.6/dist-packages (from ipython->livelossplot) (4.4.2)\n",
            "Requirement already satisfied: setuptools>=18.5 in /usr/local/lib/python3.6/dist-packages (from ipython->livelossplot) (46.3.0)\n",
            "Requirement already satisfied: prompt-toolkit<2.0.0,>=1.0.4 in /usr/local/lib/python3.6/dist-packages (from ipython->livelossplot) (1.0.18)\n",
            "Requirement already satisfied: pygments in /usr/local/lib/python3.6/dist-packages (from ipython->livelossplot) (2.1.3)\n",
            "Requirement already satisfied: pexpect; sys_platform != \"win32\" in /usr/local/lib/python3.6/dist-packages (from ipython->livelossplot) (4.8.0)\n",
            "Requirement already satisfied: pickleshare in /usr/local/lib/python3.6/dist-packages (from ipython->livelossplot) (0.7.5)\n",
            "Requirement already satisfied: traitlets>=4.2 in /usr/local/lib/python3.6/dist-packages (from ipython->livelossplot) (4.3.3)\n",
            "Requirement already satisfied: simplegeneric>0.8 in /usr/local/lib/python3.6/dist-packages (from ipython->livelossplot) (0.8.1)\n",
            "Requirement already satisfied: six>=1.5 in /usr/local/lib/python3.6/dist-packages (from python-dateutil>=2.1->matplotlib; python_version >= \"3.6\"->livelossplot) (1.12.0)\n",
            "Requirement already satisfied: wcwidth in /usr/local/lib/python3.6/dist-packages (from prompt-toolkit<2.0.0,>=1.0.4->ipython->livelossplot) (0.1.9)\n",
            "Requirement already satisfied: ptyprocess>=0.5 in /usr/local/lib/python3.6/dist-packages (from pexpect; sys_platform != \"win32\"->ipython->livelossplot) (0.6.0)\n",
            "Requirement already satisfied: ipython-genutils in /usr/local/lib/python3.6/dist-packages (from traitlets>=4.2->ipython->livelossplot) (0.2.0)\n",
            "Installing collected packages: livelossplot\n",
            "Successfully installed livelossplot-0.5.0\n"
          ],
          "name": "stdout"
        }
      ]
    },
    {
      "cell_type": "markdown",
      "metadata": {
        "id": "4O603J9oTGV7",
        "colab_type": "text"
      },
      "source": [
        "# COVID-19 Minor Project"
      ]
    },
    {
      "cell_type": "code",
      "metadata": {
        "id": "4jyZhWMTTCN5",
        "colab_type": "code",
        "outputId": "91616055-c004-4cda-f598-0060cd0a1b9a",
        "colab": {
          "base_uri": "https://localhost:8080/",
          "height": 34
        }
      },
      "source": [
        "import gc\n",
        "import cv2\n",
        "import glob\n",
        "import keras\n",
        "import numpy as np \n",
        "import pandas as pd \n",
        "from PIL import Image\n",
        "\n",
        "import matplotlib.pyplot as plt\n",
        "import matplotlib.image as mplimg\n",
        "from matplotlib.pyplot import imshow\n",
        "\n",
        "from sklearn.preprocessing import LabelEncoder,LabelBinarizer\n",
        "from sklearn.preprocessing import OneHotEncoder\n",
        "from sklearn.model_selection import train_test_split\n",
        "from sklearn.metrics import classification_report\n",
        "from sklearn.metrics import confusion_matrix\n",
        "from sklearn.metrics import roc_curve, roc_auc_score\n",
        "from sklearn.metrics import auc\n",
        "from sklearn.metrics import accuracy_score,recall_score,precision_score,f1_score\n",
        "\n",
        "from tensorflow.keras import layers\n",
        "from tensorflow.keras.preprocessing import image\n",
        "from tensorflow.keras.applications.imagenet_utils import preprocess_input\n",
        "from tensorflow.keras.layers import Input, Dense, Activation, BatchNormalization, Flatten, Conv2D\n",
        "from tensorflow.keras.layers import AveragePooling2D, MaxPooling2D, Dropout\n",
        "from tensorflow.keras.callbacks import EarlyStopping\n",
        "from tensorflow.keras.models import Model\n",
        "from tensorflow.keras.optimizers import Adam\n",
        "from tensorflow.keras.callbacks import ModelCheckpoint, ReduceLROnPlateau\n",
        "from livelossplot.tf_keras import PlotLossesCallback\n",
        "\n",
        "from tensorflow.keras.preprocessing.image import ImageDataGenerator\n",
        "from tensorflow.keras.applications import VGG16, InceptionResNetV2, ResNet152V2, DenseNet169\n",
        "\n",
        "import tensorflow.keras.backend as K\n",
        "from tensorflow.keras.models import Sequential\n",
        "\n",
        "from random import choice, uniform, random, randint\n",
        "from operator import itemgetter, attrgetter\n",
        "\n",
        "import warnings\n",
        "warnings.simplefilter(\"ignore\", category=DeprecationWarning)"
      ],
      "execution_count": 0,
      "outputs": [
        {
          "output_type": "stream",
          "text": [
            "Using TensorFlow backend.\n"
          ],
          "name": "stderr"
        }
      ]
    },
    {
      "cell_type": "markdown",
      "metadata": {
        "id": "Udp1IwgGS-jX",
        "colab_type": "text"
      },
      "source": [
        "##Data Pre-processing"
      ]
    },
    {
      "cell_type": "code",
      "metadata": {
        "id": "GD6HNElISTmy",
        "colab_type": "code",
        "outputId": "44302195-d7fe-45aa-ac1e-a061f684dfe4",
        "colab": {
          "base_uri": "https://localhost:8080/",
          "height": 34
        }
      },
      "source": [
        "cd /content/drive/My Drive"
      ],
      "execution_count": 0,
      "outputs": [
        {
          "output_type": "stream",
          "text": [
            "/content/drive/My Drive\n"
          ],
          "name": "stdout"
        }
      ]
    },
    {
      "cell_type": "code",
      "metadata": {
        "id": "AY6Giu00TOuD",
        "colab_type": "code",
        "colab": {}
      },
      "source": [
        "def load_images_from_folder(folder):\n",
        "    cnt=0\n",
        "    for filename in os.listdir(folder):\n",
        "        cnt = cnt+1\n",
        "    return cnt"
      ],
      "execution_count": 0,
      "outputs": []
    },
    {
      "cell_type": "code",
      "metadata": {
        "id": "BhkNXKNvQvTF",
        "colab_type": "code",
        "outputId": "e6fd8546-0d7c-46cd-d8bc-dbdf65fbf265",
        "colab": {
          "base_uri": "https://localhost:8080/",
          "height": 34
        }
      },
      "source": [
        "cvd = load_images_from_folder('/content/drive/My Drive/data')\n",
        "cvd"
      ],
      "execution_count": 0,
      "outputs": [
        {
          "output_type": "execute_result",
          "data": {
            "text/plain": [
              "2492"
            ]
          },
          "metadata": {
            "tags": []
          },
          "execution_count": 7
        }
      ]
    },
    {
      "cell_type": "code",
      "metadata": {
        "id": "1UxJgjJaReTh",
        "colab_type": "code",
        "colab": {}
      },
      "source": [
        "def prep_img(trg, dataset, size):\n",
        "  print(\"...Preparing images..\")\n",
        "  X_train = np.zeros((size, 224, 224, 3))\n",
        "  count = 0\n",
        "  for fig in os.listdir(dataset):\n",
        "          #load images into images of size 224x224x3\n",
        "          imag = cv2.imread(\"/content/drive/My Drive/data\"+\"/\"+fig)\n",
        "          imag = cv2.resize(imag, (224, 224))\n",
        "          #img = image.load_img(\"/content/drive/My Drive/data\"+\"/\"+fig, target_size=(224, 224))\n",
        "          #x = image.img_to_array(imag)\n",
        "          imag = imag/255\n",
        "          #x = preprocess_input(x)\n",
        "          #x = x/255\n",
        "          #print(fig)\n",
        "\n",
        "          X_train[count] = imag\n",
        "          print(\"Processing image: \", count+1, \", \", fig)\n",
        "          count += 1\n",
        "  print(\"...Done...\")\n",
        "    \n",
        "  return X_train"
      ],
      "execution_count": 0,
      "outputs": []
    },
    {
      "cell_type": "code",
      "metadata": {
        "id": "Of6SSmhBRrny",
        "colab_type": "code",
        "outputId": "24959cc6-3ae3-4107-ad6b-8c441bf01da6",
        "colab": {
          "base_uri": "https://localhost:8080/",
          "height": 1000
        }
      },
      "source": [
        "trg_tot = '/content/drive/My Drive/'\n",
        "X_c = prep_img(trg_tot, 'data', cvd)"
      ],
      "execution_count": 0,
      "outputs": [
        {
          "output_type": "stream",
          "text": [
            "...Preparing images..\n",
            "Processing image:  1 ,  Non-Covid (545).png\n",
            "Processing image:  2 ,  Non-Covid (628).png\n",
            "Processing image:  3 ,  Non-Covid (493).png\n",
            "Processing image:  4 ,  Non-Covid (563).png\n",
            "Processing image:  5 ,  Non-Covid (652).png\n",
            "Processing image:  6 ,  Non-Covid (609).png\n",
            "Processing image:  7 ,  Non-Covid (530).png\n",
            "Processing image:  8 ,  Non-Covid (561).png\n",
            "Processing image:  9 ,  Non-Covid (526).png\n",
            "Processing image:  10 ,  Non-Covid (529).png\n",
            "Processing image:  11 ,  Non-Covid (611).png\n",
            "Processing image:  12 ,  Non-Covid (58).png\n",
            "Processing image:  13 ,  Non-Covid (64).png\n",
            "Processing image:  14 ,  Non-Covid (603).png\n",
            "Processing image:  15 ,  Non-Covid (588).png\n",
            "Processing image:  16 ,  Non-Covid (637).png\n",
            "Processing image:  17 ,  Non-Covid (533).png\n",
            "Processing image:  18 ,  Non-Covid (565).png\n",
            "Processing image:  19 ,  Non-Covid (621).png\n",
            "Processing image:  20 ,  Non-Covid (496).png\n",
            "Processing image:  21 ,  Non-Covid (654).png\n",
            "Processing image:  22 ,  Non-Covid (555).png\n",
            "Processing image:  23 ,  Non-Covid (627).png\n",
            "Processing image:  24 ,  Non-Covid (499).png\n",
            "Processing image:  25 ,  Non-Covid (629).png\n",
            "Processing image:  26 ,  Non-Covid (559).png\n",
            "Processing image:  27 ,  Non-Covid (617).png\n",
            "Processing image:  28 ,  Non-Covid (508).png\n",
            "Processing image:  29 ,  Non-Covid (610).png\n",
            "Processing image:  30 ,  Non-Covid (641).png\n",
            "Processing image:  31 ,  Non-Covid (648).png\n",
            "Processing image:  32 ,  Non-Covid (531).png\n",
            "Processing image:  33 ,  Non-Covid (60).png\n",
            "Processing image:  34 ,  Non-Covid (49).png\n",
            "Processing image:  35 ,  Non-Covid (515).png\n",
            "Processing image:  36 ,  Non-Covid (525).png\n",
            "Processing image:  37 ,  Non-Covid (645).png\n",
            "Processing image:  38 ,  Non-Covid (491).png\n",
            "Processing image:  39 ,  Non-Covid (613).png\n",
            "Processing image:  40 ,  Non-Covid (580).png\n",
            "Processing image:  41 ,  Non-Covid (553).png\n",
            "Processing image:  42 ,  Non-Covid (626).png\n",
            "Processing image:  43 ,  Non-Covid (554).png\n",
            "Processing image:  44 ,  Non-Covid (497).png\n",
            "Processing image:  45 ,  Non-Covid (644).png\n",
            "Processing image:  46 ,  Non-Covid (575).png\n",
            "Processing image:  47 ,  Non-Covid (596).png\n",
            "Processing image:  48 ,  Non-Covid (625).png\n",
            "Processing image:  49 ,  Non-Covid (52).png\n",
            "Processing image:  50 ,  Non-Covid (590).png\n",
            "Processing image:  51 ,  Non-Covid (595).png\n",
            "Processing image:  52 ,  Non-Covid (495).png\n",
            "Processing image:  53 ,  Non-Covid (537).png\n",
            "Processing image:  54 ,  Non-Covid (518).png\n",
            "Processing image:  55 ,  Non-Covid (630).png\n",
            "Processing image:  56 ,  Non-Covid (570).png\n",
            "Processing image:  57 ,  Non-Covid (582).png\n",
            "Processing image:  58 ,  Non-Covid (6).png\n",
            "Processing image:  59 ,  Non-Covid (510).png\n",
            "Processing image:  60 ,  Non-Covid (50).png\n",
            "Processing image:  61 ,  Non-Covid (517).png\n",
            "Processing image:  62 ,  Non-Covid (608).png\n",
            "Processing image:  63 ,  Non-Covid (551).png\n",
            "Processing image:  64 ,  Non-Covid (541).png\n",
            "Processing image:  65 ,  Non-Covid (502).png\n",
            "Processing image:  66 ,  Non-Covid (584).png\n",
            "Processing image:  67 ,  Non-Covid (618).png\n",
            "Processing image:  68 ,  Non-Covid (643).png\n",
            "Processing image:  69 ,  Non-Covid (536).png\n",
            "Processing image:  70 ,  Non-Covid (569).png\n",
            "Processing image:  71 ,  Non-Covid (504).png\n",
            "Processing image:  72 ,  Non-Covid (567).png\n",
            "Processing image:  73 ,  Non-Covid (583).png\n",
            "Processing image:  74 ,  Non-Covid (606).png\n",
            "Processing image:  75 ,  Non-Covid (587).png\n",
            "Processing image:  76 ,  Non-Covid (488).png\n",
            "Processing image:  77 ,  Non-Covid (577).png\n",
            "Processing image:  78 ,  Non-Covid (593).png\n",
            "Processing image:  79 ,  Non-Covid (724).png\n",
            "Processing image:  80 ,  Non-Covid (810).png\n",
            "Processing image:  81 ,  Non-Covid (66).png\n",
            "Processing image:  82 ,  Non-Covid (689).png\n",
            "Processing image:  83 ,  Non-Covid (763).png\n",
            "Processing image:  84 ,  Non-Covid (772).png\n",
            "Processing image:  85 ,  Non-Covid (774).png\n",
            "Processing image:  86 ,  Non-Covid (751).png\n",
            "Processing image:  87 ,  Non-Covid (818).png\n",
            "Processing image:  88 ,  Non-Covid (748).png\n",
            "Processing image:  89 ,  Non-Covid (81).png\n",
            "Processing image:  90 ,  Non-Covid (834).png\n",
            "Processing image:  91 ,  Non-Covid (743).png\n",
            "Processing image:  92 ,  Non-Covid (739).png\n",
            "Processing image:  93 ,  Non-Covid (673).png\n",
            "Processing image:  94 ,  Non-Covid (687).png\n",
            "Processing image:  95 ,  Non-Covid (777).png\n",
            "Processing image:  96 ,  Non-Covid (716).png\n",
            "Processing image:  97 ,  Non-Covid (695).png\n",
            "Processing image:  98 ,  Non-Covid (729).png\n",
            "Processing image:  99 ,  Non-Covid (814).png\n",
            "Processing image:  100 ,  Non-Covid (841).png\n",
            "Processing image:  101 ,  Non-Covid (713).png\n",
            "Processing image:  102 ,  Non-Covid (779).png\n",
            "Processing image:  103 ,  Non-Covid (79).png\n",
            "Processing image:  104 ,  Non-Covid (726).png\n",
            "Processing image:  105 ,  Non-Covid (723).png\n",
            "Processing image:  106 ,  Non-Covid (799).png\n",
            "Processing image:  107 ,  Non-Covid (806).png\n",
            "Processing image:  108 ,  Non-Covid (803).png\n",
            "Processing image:  109 ,  Non-Covid (839).png\n",
            "Processing image:  110 ,  Non-Covid (732).png\n",
            "Processing image:  111 ,  Non-Covid (674).png\n",
            "Processing image:  112 ,  Non-Covid (68).png\n",
            "Processing image:  113 ,  Non-Covid (672).png\n",
            "Processing image:  114 ,  Non-Covid (792).png\n",
            "Processing image:  115 ,  Non-Covid (690).png\n",
            "Processing image:  116 ,  Non-Covid (829).png\n",
            "Processing image:  117 ,  Non-Covid (71).png\n",
            "Processing image:  118 ,  Non-Covid (836).png\n",
            "Processing image:  119 ,  Non-Covid (735).png\n",
            "Processing image:  120 ,  Non-Covid (77).png\n",
            "Processing image:  121 ,  Non-Covid (795).png\n",
            "Processing image:  122 ,  Non-Covid (686).png\n",
            "Processing image:  123 ,  Non-Covid (820).png\n",
            "Processing image:  124 ,  Non-Covid (731).png\n",
            "Processing image:  125 ,  Non-Covid (775).png\n",
            "Processing image:  126 ,  Non-Covid (659).png\n",
            "Processing image:  127 ,  Non-Covid (828).png\n",
            "Processing image:  128 ,  Non-Covid (789).png\n",
            "Processing image:  129 ,  Non-Covid (790).png\n",
            "Processing image:  130 ,  Non-Covid (736).png\n",
            "Processing image:  131 ,  Non-Covid (680).png\n",
            "Processing image:  132 ,  Non-Covid (84).png\n",
            "Processing image:  133 ,  Non-Covid (67).png\n",
            "Processing image:  134 ,  Non-Covid (745).png\n",
            "Processing image:  135 ,  Non-Covid (715).png\n",
            "Processing image:  136 ,  Non-Covid (776).png\n",
            "Processing image:  137 ,  Non-Covid (815).png\n",
            "Processing image:  138 ,  Non-Covid (719).png\n",
            "Processing image:  139 ,  Non-Covid (737).png\n",
            "Processing image:  140 ,  Non-Covid (75).png\n",
            "Processing image:  141 ,  Non-Covid (685).png\n",
            "Processing image:  142 ,  Non-Covid (665).png\n",
            "Processing image:  143 ,  Non-Covid (701).png\n",
            "Processing image:  144 ,  Non-Covid (708).png\n",
            "Processing image:  145 ,  Non-Covid (800).png\n",
            "Processing image:  146 ,  Non-Covid (705).png\n",
            "Processing image:  147 ,  Non-Covid (765).png\n",
            "Processing image:  148 ,  Non-Covid (762).png\n",
            "Processing image:  149 ,  Non-Covid (759).png\n",
            "Processing image:  150 ,  Non-Covid (746).png\n",
            "Processing image:  151 ,  Non-Covid (706).png\n",
            "Processing image:  152 ,  Non-Covid (703).png\n",
            "Processing image:  153 ,  Non-Covid (675).png\n",
            "Processing image:  154 ,  Non-Covid (784).png\n",
            "Processing image:  155 ,  Non-Covid (684).png\n",
            "Processing image:  156 ,  Non-Covid (8).png\n",
            "Processing image:  157 ,  Non-Covid (822).png\n",
            "Processing image:  158 ,  Non-Covid (811).png\n",
            "Processing image:  159 ,  Non-Covid (664).png\n",
            "Processing image:  160 ,  Non-Covid (694).png\n",
            "Processing image:  161 ,  Non-Covid (744).png\n",
            "Processing image:  162 ,  Non-Covid (787).png\n",
            "Processing image:  163 ,  Non-Covid (825).png\n",
            "Processing image:  164 ,  Non-Covid (669).png\n",
            "Processing image:  165 ,  Non-Covid (677).png\n",
            "Processing image:  166 ,  Non-Covid (769).png\n",
            "Processing image:  167 ,  Non-Covid (699).png\n",
            "Processing image:  168 ,  Non-Covid (78).png\n",
            "Processing image:  169 ,  Non-Covid (830).png\n",
            "Processing image:  170 ,  Non-Covid (831).png\n",
            "Processing image:  171 ,  Non-Covid (82).png\n",
            "Processing image:  172 ,  Non-Covid (671).png\n",
            "Processing image:  173 ,  Non-Covid (707).png\n",
            "Processing image:  174 ,  Non-Covid (661).png\n",
            "Processing image:  175 ,  Non-Covid (72).png\n",
            "Processing image:  176 ,  Non-Covid (722).png\n",
            "Processing image:  177 ,  Non-Covid (802).png\n",
            "Processing image:  178 ,  Non-Covid (783).png\n",
            "Processing image:  179 ,  Non-Covid (827).png\n",
            "Processing image:  180 ,  Non-Covid (74).png\n",
            "Processing image:  181 ,  Non-Covid (667).png\n",
            "Processing image:  182 ,  Non-Covid (80).png\n",
            "Processing image:  183 ,  Non-Covid (780).png\n",
            "Processing image:  184 ,  Non-Covid (768).png\n",
            "Processing image:  185 ,  Non-Covid (794).png\n",
            "Processing image:  186 ,  Non-Covid (681).png\n",
            "Processing image:  187 ,  Non-Covid (823).png\n",
            "Processing image:  188 ,  Non-Covid (679).png\n",
            "Processing image:  189 ,  Non-Covid (771).png\n",
            "Processing image:  190 ,  Non-Covid (797).png\n",
            "Processing image:  191 ,  Non-Covid (711).png\n",
            "Processing image:  192 ,  Non-Covid (656).png\n",
            "Processing image:  193 ,  Non-Covid (73).png\n",
            "Processing image:  194 ,  Non-Covid (819).png\n",
            "Processing image:  195 ,  Non-Covid (69).png\n",
            "Processing image:  196 ,  Non-Covid (788).png\n",
            "Processing image:  197 ,  Non-Covid (660).png\n",
            "Processing image:  198 ,  Non-Covid (809).png\n",
            "Processing image:  199 ,  Non-Covid (807).png\n",
            "Processing image:  200 ,  Non-Covid (727).png\n",
            "Processing image:  201 ,  Non-Covid (733).png\n",
            "Processing image:  202 ,  Non-Covid (718).png\n",
            "Processing image:  203 ,  Non-Covid (712).png\n",
            "Processing image:  204 ,  Non-Covid (798).png\n",
            "Processing image:  205 ,  Non-Covid (804).png\n",
            "Processing image:  206 ,  Non-Covid (692).png\n",
            "Processing image:  207 ,  Non-Covid (824).png\n",
            "Processing image:  208 ,  Non-Covid (657).png\n",
            "Processing image:  209 ,  Non-Covid (761).png\n",
            "Processing image:  210 ,  Non-Covid (835).png\n",
            "Processing image:  211 ,  Non-Covid (730).png\n",
            "Processing image:  212 ,  Non-Covid (760).png\n",
            "Processing image:  213 ,  Non-Covid (738).png\n",
            "Processing image:  214 ,  Non-Covid (698).png\n",
            "Processing image:  215 ,  Non-Covid (808).png\n",
            "Processing image:  216 ,  Non-Covid (805).png\n",
            "Processing image:  217 ,  Non-Covid (785).png\n",
            "Processing image:  218 ,  Non-Covid (812).png\n",
            "Processing image:  219 ,  Non-Covid (668).png\n",
            "Processing image:  220 ,  Non-Covid (801).png\n",
            "Processing image:  221 ,  Non-Covid (833).png\n",
            "Processing image:  222 ,  Non-Covid (754).png\n",
            "Processing image:  223 ,  Non-Covid (749).png\n",
            "Processing image:  224 ,  Non-Covid (717).png\n",
            "Processing image:  225 ,  Non-Covid (688).png\n",
            "Processing image:  226 ,  Non-Covid (83).png\n",
            "Processing image:  227 ,  Non-Covid (658).png\n",
            "Processing image:  228 ,  Non-Covid (766).png\n",
            "Processing image:  229 ,  Non-Covid (7).png\n",
            "Processing image:  230 ,  Non-Covid (720).png\n",
            "Processing image:  231 ,  Non-Covid (678).png\n",
            "Processing image:  232 ,  Non-Covid (778).png\n",
            "Processing image:  233 ,  Non-Covid (666).png\n",
            "Processing image:  234 ,  Non-Covid (753).png\n",
            "Processing image:  235 ,  Non-Covid (842).png\n",
            "Processing image:  236 ,  Non-Covid (773).png\n",
            "Processing image:  237 ,  Non-Covid (663).png\n",
            "Processing image:  238 ,  Non-Covid (750).png\n",
            "Processing image:  239 ,  Non-Covid (700).png\n",
            "Processing image:  240 ,  Non-Covid (758).png\n",
            "Processing image:  241 ,  Non-Covid (796).png\n",
            "Processing image:  242 ,  Non-Covid (786).png\n",
            "Processing image:  243 ,  Non-Covid (728).png\n",
            "Processing image:  244 ,  Non-Covid (816).png\n",
            "Processing image:  245 ,  Non-Covid (655).png\n",
            "Processing image:  246 ,  Non-Covid (781).png\n",
            "Processing image:  247 ,  Non-Covid (757).png\n",
            "Processing image:  248 ,  Non-Covid (817).png\n",
            "Processing image:  249 ,  Non-Covid (740).png\n",
            "Processing image:  250 ,  Non-Covid (821).png\n",
            "Processing image:  251 ,  Non-Covid (70).png\n",
            "Processing image:  252 ,  Non-Covid (704).png\n",
            "Processing image:  253 ,  Non-Covid (840).png\n",
            "Processing image:  254 ,  Non-Covid (742).png\n",
            "Processing image:  255 ,  Non-Covid (791).png\n",
            "Processing image:  256 ,  Non-Covid (670).png\n",
            "Processing image:  257 ,  Non-Covid (782).png\n",
            "Processing image:  258 ,  Non-Covid (832).png\n",
            "Processing image:  259 ,  Non-Covid (76).png\n",
            "Processing image:  260 ,  Non-Covid (683).png\n",
            "Processing image:  261 ,  Non-Covid (756).png\n",
            "Processing image:  262 ,  Non-Covid (838).png\n",
            "Processing image:  263 ,  Non-Covid (709).png\n",
            "Processing image:  264 ,  Non-Covid (793).png\n",
            "Processing image:  265 ,  Non-Covid (662).png\n",
            "Processing image:  266 ,  Non-Covid (693).png\n",
            "Processing image:  267 ,  Non-Covid (710).png\n",
            "Processing image:  268 ,  Non-Covid (813).png\n",
            "Processing image:  269 ,  Non-Covid (770).png\n",
            "Processing image:  270 ,  Non-Covid (767).png\n",
            "Processing image:  271 ,  Non-Covid (764).png\n",
            "Processing image:  272 ,  Non-Covid (741).png\n",
            "Processing image:  273 ,  Non-Covid (702).png\n",
            "Processing image:  274 ,  Non-Covid (837).png\n",
            "Processing image:  275 ,  Non-Covid (755).png\n",
            "Processing image:  276 ,  Non-Covid (691).png\n",
            "Processing image:  277 ,  Non-Covid (747).png\n",
            "Processing image:  278 ,  Non-Covid (676).png\n",
            "Processing image:  279 ,  Non-Covid (721).png\n",
            "Processing image:  280 ,  Non-Covid (725).png\n",
            "Processing image:  281 ,  Non-Covid (734).png\n",
            "Processing image:  282 ,  Non-Covid (714).png\n",
            "Processing image:  283 ,  Non-Covid (752).png\n",
            "Processing image:  284 ,  Non-Covid (697).png\n",
            "Processing image:  285 ,  Non-Covid (696).png\n",
            "Processing image:  286 ,  Non-Covid (826).png\n",
            "Processing image:  287 ,  Non-Covid (682).png\n",
            "Processing image:  288 ,  Non-Covid (955).png\n",
            "Processing image:  289 ,  Non-Covid (983).png\n",
            "Processing image:  290 ,  Non-Covid (995).png\n",
            "Processing image:  291 ,  Non-Covid (922).png\n",
            "Processing image:  292 ,  Non-Covid (928).png\n",
            "Processing image:  293 ,  Non-Covid (904).png\n",
            "Processing image:  294 ,  Non-Covid (849).png\n",
            "Processing image:  295 ,  Non-Covid (94).png\n",
            "Processing image:  296 ,  Non-Covid (923).png\n",
            "Processing image:  297 ,  Non-Covid (988).png\n",
            "Processing image:  298 ,  Non-Covid (962).png\n",
            "Processing image:  299 ,  Non-Covid (959).png\n",
            "Processing image:  300 ,  Non-Covid (966).png\n",
            "Processing image:  301 ,  Non-Covid (92).png\n",
            "Processing image:  302 ,  Non-Covid (984).png\n",
            "Processing image:  303 ,  Non-Covid (992).png\n",
            "Processing image:  304 ,  Non-Covid (865).png\n",
            "Processing image:  305 ,  Non-Covid (90).png\n",
            "Processing image:  306 ,  Non-Covid (91).png\n",
            "Processing image:  307 ,  Non-Covid (884).png\n",
            "Processing image:  308 ,  Non-Covid (967).png\n",
            "Processing image:  309 ,  Non-Covid (982).png\n",
            "Processing image:  310 ,  Non-Covid (872).png\n",
            "Processing image:  311 ,  Non-Covid (935).png\n",
            "Processing image:  312 ,  Non-Covid (913).png\n",
            "Processing image:  313 ,  Non-Covid (9).png\n",
            "Processing image:  314 ,  Non-Covid (963).png\n",
            "Processing image:  315 ,  Non-Covid (852).png\n",
            "Processing image:  316 ,  Non-Covid (862).png\n",
            "Processing image:  317 ,  Non-Covid (993).png\n",
            "Processing image:  318 ,  Non-Covid (898).png\n",
            "Processing image:  319 ,  Non-Covid (953).png\n",
            "Processing image:  320 ,  Non-Covid (940).png\n",
            "Processing image:  321 ,  Non-Covid (903).png\n",
            "Processing image:  322 ,  Non-Covid (885).png\n",
            "Processing image:  323 ,  Non-Covid (942).png\n",
            "Processing image:  324 ,  Non-Covid (911).png\n",
            "Processing image:  325 ,  Non-Covid (863).png\n",
            "Processing image:  326 ,  Non-Covid (881).png\n",
            "Processing image:  327 ,  Non-Covid (861).png\n",
            "Processing image:  328 ,  Non-Covid (986).png\n",
            "Processing image:  329 ,  Non-Covid (972).png\n",
            "Processing image:  330 ,  Non-Covid (859).png\n",
            "Processing image:  331 ,  Non-Covid (997).png\n",
            "Processing image:  332 ,  Non-Covid (964).png\n",
            "Processing image:  333 ,  Non-Covid (88).png\n",
            "Processing image:  334 ,  Non-Covid (864).png\n",
            "Processing image:  335 ,  Non-Covid (989).png\n",
            "Processing image:  336 ,  Non-Covid (969).png\n",
            "Processing image:  337 ,  Non-Covid (956).png\n",
            "Processing image:  338 ,  Non-Covid (860).png\n",
            "Processing image:  339 ,  Non-Covid (892).png\n",
            "Processing image:  340 ,  Non-Covid (866).png\n",
            "Processing image:  341 ,  Non-Covid (987).png\n",
            "Processing image:  342 ,  Non-Covid (990).png\n",
            "Processing image:  343 ,  Non-Covid (948).png\n",
            "Processing image:  344 ,  Non-Covid (994).png\n",
            "Processing image:  345 ,  Non-Covid (889).png\n",
            "Processing image:  346 ,  Non-Covid (976).png\n",
            "Processing image:  347 ,  Non-Covid (968).png\n",
            "Processing image:  348 ,  Non-Covid (891).png\n",
            "Processing image:  349 ,  Non-Covid (886).png\n",
            "Processing image:  350 ,  Non-Covid (977).png\n",
            "Processing image:  351 ,  Non-Covid (902).png\n",
            "Processing image:  352 ,  Non-Covid (875).png\n",
            "Processing image:  353 ,  Non-Covid (877).png\n",
            "Processing image:  354 ,  Non-Covid (998).png\n",
            "Processing image:  355 ,  Non-Covid (947).png\n",
            "Processing image:  356 ,  Non-Covid (934).png\n",
            "Processing image:  357 ,  Non-Covid (890).png\n",
            "Processing image:  358 ,  Non-Covid (965).png\n",
            "Processing image:  359 ,  Non-Covid (941).png\n",
            "Processing image:  360 ,  Non-Covid (844).png\n",
            "Processing image:  361 ,  Non-Covid (95).png\n",
            "Processing image:  362 ,  Non-Covid (925).png\n",
            "Processing image:  363 ,  Non-Covid (943).png\n",
            "Processing image:  364 ,  Non-Covid (900).png\n",
            "Processing image:  365 ,  Non-Covid (97).png\n",
            "Processing image:  366 ,  Non-Covid (843).png\n",
            "Processing image:  367 ,  Non-Covid (958).png\n",
            "Processing image:  368 ,  Non-Covid (85).png\n",
            "Processing image:  369 ,  Non-Covid (99).png\n",
            "Processing image:  370 ,  Non-Covid (952).png\n",
            "Processing image:  371 ,  Non-Covid (89).png\n",
            "Processing image:  372 ,  Non-Covid (931).png\n",
            "Processing image:  373 ,  Non-Covid (914).png\n",
            "Processing image:  374 ,  Non-Covid (854).png\n",
            "Processing image:  375 ,  Non-Covid (932).png\n",
            "Processing image:  376 ,  Non-Covid (980).png\n",
            "Processing image:  377 ,  Non-Covid (936).png\n",
            "Processing image:  378 ,  Non-Covid (929).png\n",
            "Processing image:  379 ,  Non-Covid (855).png\n",
            "Processing image:  380 ,  Non-Covid (961).png\n",
            "Processing image:  381 ,  Non-Covid (906).png\n",
            "Processing image:  382 ,  Non-Covid (975).png\n",
            "Processing image:  383 ,  Non-Covid (915).png\n",
            "Processing image:  384 ,  Non-Covid (858).png\n",
            "Processing image:  385 ,  Non-Covid (98).png\n",
            "Processing image:  386 ,  Non-Covid (879).png\n",
            "Processing image:  387 ,  Non-Covid (937).png\n",
            "Processing image:  388 ,  Non-Covid (916).png\n",
            "Processing image:  389 ,  Non-Covid (893).png\n",
            "Processing image:  390 ,  Non-Covid (973).png\n",
            "Processing image:  391 ,  Non-Covid (950).png\n",
            "Processing image:  392 ,  Non-Covid (907).png\n",
            "Processing image:  393 ,  Non-Covid (918).png\n",
            "Processing image:  394 ,  Non-Covid (910).png\n",
            "Processing image:  395 ,  Non-Covid (944).png\n",
            "Processing image:  396 ,  Non-Covid (939).png\n",
            "Processing image:  397 ,  Non-Covid (896).png\n",
            "Processing image:  398 ,  Non-Covid (978).png\n",
            "Processing image:  399 ,  Non-Covid (954).png\n",
            "Processing image:  400 ,  Non-Covid (946).png\n",
            "Processing image:  401 ,  Non-Covid (882).png\n",
            "Processing image:  402 ,  Non-Covid (851).png\n",
            "Processing image:  403 ,  Non-Covid (909).png\n",
            "Processing image:  404 ,  Non-Covid (985).png\n",
            "Processing image:  405 ,  Non-Covid (86).png\n",
            "Processing image:  406 ,  Non-Covid (93).png\n",
            "Processing image:  407 ,  Non-Covid (919).png\n",
            "Processing image:  408 ,  Non-Covid (905).png\n",
            "Processing image:  409 ,  Non-Covid (880).png\n",
            "Processing image:  410 ,  Non-Covid (921).png\n",
            "Processing image:  411 ,  Non-Covid (999).png\n",
            "Processing image:  412 ,  Non-Covid (850).png\n",
            "Processing image:  413 ,  Non-Covid (96).png\n",
            "Processing image:  414 ,  Non-Covid (917).png\n",
            "Processing image:  415 ,  Non-Covid (979).png\n",
            "Processing image:  416 ,  Non-Covid (869).png\n",
            "Processing image:  417 ,  Non-Covid (856).png\n",
            "Processing image:  418 ,  Non-Covid (908).png\n",
            "Processing image:  419 ,  Non-Covid (894).png\n",
            "Processing image:  420 ,  Non-Covid (897).png\n",
            "Processing image:  421 ,  Non-Covid (87).png\n",
            "Processing image:  422 ,  Non-Covid (878).png\n",
            "Processing image:  423 ,  Non-Covid (857).png\n",
            "Processing image:  424 ,  Non-Covid (899).png\n",
            "Processing image:  425 ,  Non-Covid (970).png\n",
            "Processing image:  426 ,  Non-Covid (933).png\n",
            "Processing image:  427 ,  Non-Covid (873).png\n",
            "Processing image:  428 ,  Non-Covid (951).png\n",
            "Processing image:  429 ,  Non-Covid (974).png\n",
            "Processing image:  430 ,  Non-Covid (971).png\n",
            "Processing image:  431 ,  Non-Covid (870).png\n",
            "Processing image:  432 ,  Non-Covid (848).png\n",
            "Processing image:  433 ,  Non-Covid (945).png\n",
            "Processing image:  434 ,  Non-Covid (845).png\n",
            "Processing image:  435 ,  Non-Covid (895).png\n",
            "Processing image:  436 ,  Non-Covid (991).png\n",
            "Processing image:  437 ,  Non-Covid (867).png\n",
            "Processing image:  438 ,  Non-Covid (981).png\n",
            "Processing image:  439 ,  Non-Covid (847).png\n",
            "Processing image:  440 ,  Non-Covid (883).png\n",
            "Processing image:  441 ,  Non-Covid (957).png\n",
            "Processing image:  442 ,  Non-Covid (938).png\n",
            "Processing image:  443 ,  Non-Covid (871).png\n",
            "Processing image:  444 ,  Non-Covid (920).png\n",
            "Processing image:  445 ,  Non-Covid (930).png\n",
            "Processing image:  446 ,  Non-Covid (888).png\n",
            "Processing image:  447 ,  Non-Covid (996).png\n",
            "Processing image:  448 ,  Non-Covid (887).png\n",
            "Processing image:  449 ,  Non-Covid (901).png\n",
            "Processing image:  450 ,  Non-Covid (876).png\n",
            "Processing image:  451 ,  Non-Covid (949).png\n",
            "Processing image:  452 ,  Non-Covid (846).png\n",
            "Processing image:  453 ,  Non-Covid (868).png\n",
            "Processing image:  454 ,  Non-Covid (927).png\n",
            "Processing image:  455 ,  Non-Covid (926).png\n",
            "Processing image:  456 ,  Non-Covid (924).png\n",
            "Processing image:  457 ,  Non-Covid (912).png\n",
            "Processing image:  458 ,  Non-Covid (960).png\n",
            "Processing image:  459 ,  Non-Covid (874).png\n",
            "Processing image:  460 ,  Non-Covid (853).png\n",
            "Processing image:  461 ,  Non-Covid (261).png\n",
            "Processing image:  462 ,  Non-Covid (227).png\n",
            "Processing image:  463 ,  Non-Covid (189).png\n",
            "Processing image:  464 ,  Non-Covid (1224).png\n",
            "Processing image:  465 ,  Non-Covid (169).png\n",
            "Processing image:  466 ,  Non-Covid (238).png\n",
            "Processing image:  467 ,  Non-Covid (150).png\n",
            "Processing image:  468 ,  Non-Covid (130).png\n",
            "Processing image:  469 ,  Non-Covid (232).png\n",
            "Processing image:  470 ,  Non-Covid (147).png\n",
            "Processing image:  471 ,  Non-Covid (215).png\n",
            "Processing image:  472 ,  Non-Covid (250).png\n",
            "Processing image:  473 ,  Non-Covid (285).png\n",
            "Processing image:  474 ,  Non-Covid (284).png\n",
            "Processing image:  475 ,  Non-Covid (129).png\n",
            "Processing image:  476 ,  Non-Covid (160).png\n",
            "Processing image:  477 ,  Non-Covid (1212).png\n",
            "Processing image:  478 ,  Non-Covid (132).png\n",
            "Processing image:  479 ,  Non-Covid (253).png\n",
            "Processing image:  480 ,  Non-Covid (1214).png\n",
            "Processing image:  481 ,  Non-Covid (226).png\n",
            "Processing image:  482 ,  Non-Covid (239).png\n",
            "Processing image:  483 ,  Non-Covid (295).png\n",
            "Processing image:  484 ,  Non-Covid (200).png\n",
            "Processing image:  485 ,  Non-Covid (164).png\n",
            "Processing image:  486 ,  Non-Covid (193).png\n",
            "Processing image:  487 ,  Non-Covid (272).png\n",
            "Processing image:  488 ,  Non-Covid (185).png\n",
            "Processing image:  489 ,  Non-Covid (26).png\n",
            "Processing image:  490 ,  Non-Covid (214).png\n",
            "Processing image:  491 ,  Non-Covid (258).png\n",
            "Processing image:  492 ,  Non-Covid (1218).png\n",
            "Processing image:  493 ,  Non-Covid (221).png\n",
            "Processing image:  494 ,  Non-Covid (235).png\n",
            "Processing image:  495 ,  Non-Covid (137).png\n",
            "Processing image:  496 ,  Non-Covid (177).png\n",
            "Processing image:  497 ,  Non-Covid (123).png\n",
            "Processing image:  498 ,  Non-Covid (206).png\n",
            "Processing image:  499 ,  Non-Covid (131).png\n",
            "Processing image:  500 ,  Non-Covid (219).png\n",
            "Processing image:  501 ,  Non-Covid (1221).png\n",
            "Processing image:  502 ,  Non-Covid (127).png\n",
            "Processing image:  503 ,  Non-Covid (192).png\n",
            "Processing image:  504 ,  Non-Covid (252).png\n",
            "Processing image:  505 ,  Non-Covid (15).png\n",
            "Processing image:  506 ,  Non-Covid (1213).png\n",
            "Processing image:  507 ,  Non-Covid (13).png\n",
            "Processing image:  508 ,  Non-Covid (146).png\n",
            "Processing image:  509 ,  Non-Covid (17).png\n",
            "Processing image:  510 ,  Non-Covid (133).png\n",
            "Processing image:  511 ,  Non-Covid (125).png\n",
            "Processing image:  512 ,  Non-Covid (263).png\n",
            "Processing image:  513 ,  Non-Covid (225).png\n",
            "Processing image:  514 ,  Non-Covid (201).png\n",
            "Processing image:  515 ,  Non-Covid (124).png\n",
            "Processing image:  516 ,  Non-Covid (270).png\n",
            "Processing image:  517 ,  Non-Covid (240).png\n",
            "Processing image:  518 ,  Non-Covid (236).png\n",
            "Processing image:  519 ,  Non-Covid (142).png\n",
            "Processing image:  520 ,  Non-Covid (24).png\n",
            "Processing image:  521 ,  Non-Covid (27).png\n",
            "Processing image:  522 ,  Non-Covid (243).png\n",
            "Processing image:  523 ,  Non-Covid (217).png\n",
            "Processing image:  524 ,  Non-Covid (288).png\n",
            "Processing image:  525 ,  Non-Covid (251).png\n",
            "Processing image:  526 ,  Non-Covid (180).png\n",
            "Processing image:  527 ,  Non-Covid (194).png\n",
            "Processing image:  528 ,  Non-Covid (220).png\n",
            "Processing image:  529 ,  Non-Covid (159).png\n",
            "Processing image:  530 ,  Non-Covid (231).png\n",
            "Processing image:  531 ,  Non-Covid (247).png\n",
            "Processing image:  532 ,  Non-Covid (152).png\n",
            "Processing image:  533 ,  Non-Covid (291).png\n",
            "Processing image:  534 ,  Non-Covid (224).png\n",
            "Processing image:  535 ,  Non-Covid (165).png\n",
            "Processing image:  536 ,  Non-Covid (230).png\n",
            "Processing image:  537 ,  Non-Covid (203).png\n",
            "Processing image:  538 ,  Non-Covid (22).png\n",
            "Processing image:  539 ,  Non-Covid (293).png\n",
            "Processing image:  540 ,  Non-Covid (267).png\n",
            "Processing image:  541 ,  Non-Covid (181).png\n",
            "Processing image:  542 ,  Non-Covid (23).png\n",
            "Processing image:  543 ,  Non-Covid (228).png\n",
            "Processing image:  544 ,  Non-Covid (19).png\n",
            "Processing image:  545 ,  Non-Covid (178).png\n",
            "Processing image:  546 ,  Non-Covid (256).png\n",
            "Processing image:  547 ,  Non-Covid (1211).png\n",
            "Processing image:  548 ,  Non-Covid (1208).png\n",
            "Processing image:  549 ,  Non-Covid (286).png\n",
            "Processing image:  550 ,  Non-Covid (1220).png\n",
            "Processing image:  551 ,  Non-Covid (143).png\n",
            "Processing image:  552 ,  Non-Covid (138).png\n",
            "Processing image:  553 ,  Non-Covid (296).png\n",
            "Processing image:  554 ,  Non-Covid (1225).png\n",
            "Processing image:  555 ,  Non-Covid (279).png\n",
            "Processing image:  556 ,  Non-Covid (186).png\n",
            "Processing image:  557 ,  Non-Covid (204).png\n",
            "Processing image:  558 ,  Non-Covid (175).png\n",
            "Processing image:  559 ,  Non-Covid (298).png\n",
            "Processing image:  560 ,  Non-Covid (1228).png\n",
            "Processing image:  561 ,  Non-Covid (141).png\n",
            "Processing image:  562 ,  Non-Covid (283).png\n",
            "Processing image:  563 ,  Non-Covid (14).png\n",
            "Processing image:  564 ,  Non-Covid (184).png\n",
            "Processing image:  565 ,  Non-Covid (265).png\n",
            "Processing image:  566 ,  Non-Covid (1200).png\n",
            "Processing image:  567 ,  Non-Covid (25).png\n",
            "Processing image:  568 ,  Non-Covid (122).png\n",
            "Processing image:  569 ,  Non-Covid (168).png\n",
            "Processing image:  570 ,  Non-Covid (299).png\n",
            "Processing image:  571 ,  Non-Covid (211).png\n",
            "Processing image:  572 ,  Non-Covid (209).png\n",
            "Processing image:  573 ,  Non-Covid (140).png\n",
            "Processing image:  574 ,  Non-Covid (212).png\n",
            "Processing image:  575 ,  Non-Covid (289).png\n",
            "Processing image:  576 ,  Non-Covid (280).png\n",
            "Processing image:  577 ,  Non-Covid (266).png\n",
            "Processing image:  578 ,  Non-Covid (182).png\n",
            "Processing image:  579 ,  Non-Covid (155).png\n",
            "Processing image:  580 ,  Non-Covid (249).png\n",
            "Processing image:  581 ,  Non-Covid (257).png\n",
            "Processing image:  582 ,  Non-Covid (174).png\n",
            "Processing image:  583 ,  Non-Covid (259).png\n",
            "Processing image:  584 ,  Non-Covid (237).png\n",
            "Processing image:  585 ,  Non-Covid (242).png\n"
          ],
          "name": "stdout"
        },
        {
          "output_type": "stream",
          "text": [
            "ERROR:root:Internal Python error in the inspect module.\n",
            "Below is the traceback from this internal error.\n",
            "\n"
          ],
          "name": "stderr"
        },
        {
          "output_type": "stream",
          "text": [
            "Traceback (most recent call last):\n",
            "  File \"/usr/local/lib/python3.6/dist-packages/IPython/core/interactiveshell.py\", line 2882, in run_code\n",
            "    exec(code_obj, self.user_global_ns, self.user_ns)\n",
            "  File \"<ipython-input-9-ff1d33ffd4d2>\", line 2, in <module>\n",
            "    X_c = prep_img(trg_tot, 'data', cvd)\n",
            "  File \"<ipython-input-8-b58be9030b65>\", line 7, in prep_img\n",
            "    imag = cv2.imread(\"/content/drive/My Drive/data\"+\"/\"+fig)\n",
            "KeyboardInterrupt\n",
            "\n",
            "During handling of the above exception, another exception occurred:\n",
            "\n",
            "Traceback (most recent call last):\n",
            "  File \"/usr/local/lib/python3.6/dist-packages/IPython/core/interactiveshell.py\", line 1823, in showtraceback\n",
            "    stb = value._render_traceback_()\n",
            "AttributeError: 'KeyboardInterrupt' object has no attribute '_render_traceback_'\n",
            "\n",
            "During handling of the above exception, another exception occurred:\n",
            "\n",
            "Traceback (most recent call last):\n",
            "  File \"/usr/local/lib/python3.6/dist-packages/IPython/core/ultratb.py\", line 1132, in get_records\n",
            "    return _fixed_getinnerframes(etb, number_of_lines_of_context, tb_offset)\n",
            "  File \"/usr/local/lib/python3.6/dist-packages/IPython/core/ultratb.py\", line 313, in wrapped\n",
            "    return f(*args, **kwargs)\n",
            "  File \"/usr/local/lib/python3.6/dist-packages/IPython/core/ultratb.py\", line 358, in _fixed_getinnerframes\n",
            "    records = fix_frame_records_filenames(inspect.getinnerframes(etb, context))\n",
            "  File \"/usr/lib/python3.6/inspect.py\", line 1490, in getinnerframes\n",
            "    frameinfo = (tb.tb_frame,) + getframeinfo(tb, context)\n",
            "  File \"/usr/lib/python3.6/inspect.py\", line 1448, in getframeinfo\n",
            "    filename = getsourcefile(frame) or getfile(frame)\n",
            "  File \"/usr/lib/python3.6/inspect.py\", line 696, in getsourcefile\n",
            "    if getattr(getmodule(object, filename), '__loader__', None) is not None:\n",
            "  File \"/usr/lib/python3.6/inspect.py\", line 742, in getmodule\n",
            "    os.path.realpath(f)] = module.__name__\n",
            "  File \"/usr/lib/python3.6/posixpath.py\", line 395, in realpath\n",
            "    path, ok = _joinrealpath(filename[:0], filename, {})\n",
            "  File \"/usr/lib/python3.6/posixpath.py\", line 429, in _joinrealpath\n",
            "    if not islink(newpath):\n",
            "  File \"/usr/lib/python3.6/posixpath.py\", line 171, in islink\n",
            "    st = os.lstat(path)\n",
            "KeyboardInterrupt\n"
          ],
          "name": "stdout"
        },
        {
          "output_type": "error",
          "ename": "KeyboardInterrupt",
          "evalue": "ignored",
          "traceback": [
            "\u001b[0;31m---------------------------------------------------------------------------\u001b[0m"
          ]
        }
      ]
    },
    {
      "cell_type": "code",
      "metadata": {
        "id": "4L_dZVDZTcA1",
        "colab_type": "code",
        "colab": {}
      },
      "source": [
        "def create_labels(dataset):\n",
        "  labels=[]\n",
        "  for fig in os.listdir(dataset):\n",
        "    if fig[0]=='C':\n",
        "      labels.append('Covid')\n",
        "    elif fig[0]=='N':\n",
        "      labels.append('Normal')\n",
        "  return labels\n",
        "lbl = create_labels('data')"
      ],
      "execution_count": 0,
      "outputs": []
    },
    {
      "cell_type": "code",
      "metadata": {
        "id": "lfyJhq7qR-Sp",
        "colab_type": "code",
        "colab": {}
      },
      "source": [
        "def prepare_labels(y):\n",
        "    values = np.array(y)\n",
        "    label_encoder = LabelEncoder()\n",
        "    integer_encoded = label_encoder.fit_transform(values)\n",
        "    #print(integer_encoded.shape)\n",
        "\n",
        "    onehot_encoder = OneHotEncoder(sparse=False)\n",
        "    integer_encoded = integer_encoded.reshape(len(integer_encoded), 1)\n",
        "    onehot_encoded = onehot_encoder.fit_transform(integer_encoded)\n",
        "    #print(onehot_encoded)\n",
        "\n",
        "    y = onehot_encoded\n",
        "    #print(y)\n",
        "    return y, label_encoder, onehot_encoder\n",
        "y, label_encoder, onehot_encoder = prepare_labels(lbl)\n",
        "y.shape"
      ],
      "execution_count": 0,
      "outputs": []
    },
    {
      "cell_type": "code",
      "metadata": {
        "id": "d2MhA4Gde0Tv",
        "colab_type": "code",
        "colab": {}
      },
      "source": [
        "X_trainn, X_test, y_trainn, y_test = train_test_split(X_c, y, test_size=0.25, random_state=42, stratify=y)\n",
        "X_train, X_val, y_train, y_val = train_test_split(X_trainn, y_trainn, test_size=0.2, random_state=42, stratify=y_trainn)"
      ],
      "execution_count": 0,
      "outputs": []
    },
    {
      "cell_type": "code",
      "metadata": {
        "id": "CPkwVMZ0oWRV",
        "colab_type": "code",
        "colab": {}
      },
      "source": [
        "cnt = cnt_1 = cnt_t = cnt_t_1 = a=b=0\n",
        "for lb in y_train:\n",
        "  if lb[0] == 0:\n",
        "    cnt_1 = cnt_1 + 1\n",
        "  elif lb[0] == 1:\n",
        "    cnt = cnt +1\n",
        "for lb in y_test:\n",
        "  if lb[0] == 0:\n",
        "    cnt_t_1 = cnt_t_1 + 1\n",
        "  elif lb[0] == 1:\n",
        "    cnt_t = cnt_t +1\n",
        "for lb in y_val:\n",
        "  if lb[0] == 0:\n",
        "    a = a + 1\n",
        "  elif lb[0] == 1:\n",
        "    b = b +1\n",
        "print (cnt,cnt_1,cnt_t,cnt_t_1,a,b)"
      ],
      "execution_count": 0,
      "outputs": []
    },
    {
      "cell_type": "markdown",
      "metadata": {
        "id": "Gy18Ambbf4VS",
        "colab_type": "text"
      },
      "source": [
        "## Data Augmentation"
      ]
    },
    {
      "cell_type": "code",
      "metadata": {
        "id": "Lu5rHXKJf8s9",
        "colab_type": "code",
        "colab": {}
      },
      "source": [
        "trainAug = ImageDataGenerator(\n",
        "\trotation_range=15,\n",
        "  shear_range=0.2,\n",
        "  horizontal_flip=True,\n",
        "\tfill_mode=\"nearest\")"
      ],
      "execution_count": 0,
      "outputs": []
    },
    {
      "cell_type": "markdown",
      "metadata": {
        "id": "sLLFAIv3fZfK",
        "colab_type": "text"
      },
      "source": [
        "## VGG-16"
      ]
    },
    {
      "cell_type": "code",
      "metadata": {
        "id": "h_TxBVLgfWx1",
        "colab_type": "code",
        "colab": {}
      },
      "source": [
        "pretrained_model = VGG16(\n",
        "        include_top=False,\n",
        "        input_shape=(224, 224, 3),\n",
        "        weights='imagenet'\n",
        "    )\n",
        "for layer in pretrained_model.layers:\n",
        "    layer.trainable = False\n",
        "\n",
        "model = Sequential()\n",
        "    # first (and only) set of FC => RELU layers\n",
        "model.add(AveragePooling2D((2, 2), name='avg_pool'))\n",
        "model.add(Flatten())\n",
        "model.add(Dense(128, activation='relu'))\n",
        "model.add(Dropout(0.2))\n",
        "\n",
        "model.add(Dense(64, activation='relu'))\n",
        "model.add(Dropout(0.3))\n",
        "    # softmax classifier\n",
        "model.add(Dense(2,activation='sigmoid'))\n",
        "\n",
        "\n",
        "\n",
        "pretrainedInput = pretrained_model.input\n",
        "pretrainedOutput = pretrained_model.output\n",
        "output = model(pretrainedOutput)\n",
        "model = Model(pretrainedInput, output)\n",
        "model.compile(loss=\"binary_crossentropy\", optimizer=\"adam\", metrics=[\"accuracy\"])\n",
        "model.summary()\n"
      ],
      "execution_count": 0,
      "outputs": []
    },
    {
      "cell_type": "code",
      "metadata": {
        "id": "2tlWFGfKF1Pf",
        "colab_type": "code",
        "colab": {}
      },
      "source": [
        "reduce_lr = ReduceLROnPlateau(monitor='val_loss', factor=0.1, patience=2, min_lr=0.00001, mode='auto')\n",
        "checkpoint = ModelCheckpoint(\"model_vgg16_weights.h5\", monitor='val_accuracy',save_weights_only=True, mode='max', verbose=1)\n",
        "callbacks = [PlotLossesCallback(), checkpoint, reduce_lr]"
      ],
      "execution_count": 0,
      "outputs": []
    },
    {
      "cell_type": "code",
      "metadata": {
        "id": "Ctapi7WvfGs4",
        "colab_type": "code",
        "colab": {}
      },
      "source": [
        "H = model.fit_generator(trainAug.flow(X_train, y_train, batch_size=64), steps_per_epoch=len(X_train)//64, validation_data=(X_val, y_val), validation_steps=len(X_val)//64, epochs=1000, callbacks=callbacks, use_multiprocessing=True)\n",
        "#H = model.fit(X_train, y_train, epochs=100, batch_size=16, validation_data=(X_test, y_test))"
      ],
      "execution_count": 0,
      "outputs": []
    },
    {
      "cell_type": "code",
      "metadata": {
        "id": "HB_72PWdfML4",
        "colab_type": "code",
        "colab": {}
      },
      "source": [
        "# summarize history for accuracy\n",
        "plt.plot(H.history['accuracy'])\n",
        "plt.plot(H.history['val_accuracy'])\n",
        "plt.title('model accuracy')\n",
        "plt.ylabel('accuracy')\n",
        "plt.xlabel('epoch')\n",
        "plt.legend(['train', 'val'], loc='lower right')\n",
        "plt.show()\n",
        "# summarize history for loss\n",
        "plt.plot(H.history['loss'])\n",
        "plt.plot(H.history['val_loss'])\n",
        "plt.title('model loss')\n",
        "plt.ylabel('loss')\n",
        "plt.xlabel('epoch')\n",
        "plt.legend(['train', 'val'], loc='upper right')\n",
        "plt.show()"
      ],
      "execution_count": 0,
      "outputs": []
    },
    {
      "cell_type": "markdown",
      "metadata": {
        "id": "X8Q1Oe-DZkS5",
        "colab_type": "text"
      },
      "source": [
        "### Prediction and Prepping"
      ]
    },
    {
      "cell_type": "code",
      "metadata": {
        "id": "qqbKkjyUG0uW",
        "colab_type": "code",
        "colab": {}
      },
      "source": [
        "inte1 = onehot_encoder.inverse_transform(y_test)\n",
        "fi1 = label_encoder.inverse_transform(inte1)\n",
        "Y_pred = model.predict(X_test)\n",
        "inte = onehot_encoder.inverse_transform(Y_pred)\n",
        "fi = label_encoder.inverse_transform(inte)"
      ],
      "execution_count": 0,
      "outputs": []
    },
    {
      "cell_type": "code",
      "metadata": {
        "id": "TBDCJXnzrLPP",
        "colab_type": "code",
        "colab": {}
      },
      "source": [
        "print(\"Precision Score : \",precision_score(fi1, fi, pos_label='Covid', average='binary'))\n",
        "print(\"Recall Score : \",recall_score(fi1, fi, pos_label='Covid',average='binary'))\n",
        "print('Accuracy Score : ' + str(accuracy_score(fi1,fi)))\n",
        "print('F1 Score : ' + str(f1_score(fi1,fi, pos_label='Covid',average='binary')))\n",
        "cm1=confusion_matrix(fi1, fi)\n",
        "sensitivity1 = cm1[0,0]/(cm1[0,0]+cm1[0,1])\n",
        "print('Sensitivity : ', sensitivity1 )\n",
        "specificity1 = cm1[1,1]/(cm1[1,0]+cm1[1,1])\n",
        "print('Specificity : ', specificity1)"
      ],
      "execution_count": 0,
      "outputs": []
    },
    {
      "cell_type": "markdown",
      "metadata": {
        "id": "hKaMd5GaZQg5",
        "colab_type": "text"
      },
      "source": [
        "### Confusion Matrix"
      ]
    },
    {
      "cell_type": "code",
      "metadata": {
        "id": "5ZH09L9QKfEJ",
        "colab_type": "code",
        "colab": {}
      },
      "source": [
        "print('Confusion Matrix')\n",
        "print(confusion_matrix(fi1, fi))\n",
        "print('Classification Report')\n",
        "target_names = ['Covid', 'Normal']\n",
        "print(classification_report(fi1, fi, target_names=target_names))"
      ],
      "execution_count": 0,
      "outputs": []
    },
    {
      "cell_type": "code",
      "metadata": {
        "id": "HTkDQi7JJky4",
        "colab_type": "code",
        "colab": {}
      },
      "source": [
        "import seaborn as sns\n",
        "con_mat = confusion_matrix(inte1,inte)\n",
        "con_mat_norm = np.around(con_mat.astype('float') / con_mat.sum(axis=1)[:, np.newaxis], decimals=2)\n",
        " \n",
        "con_mat_df = pd.DataFrame(con_mat_norm,\n",
        "                     index = target_names, \n",
        "                     columns = target_names)\n",
        "figure = plt.figure(figsize=(8, 8))\n",
        "sns.heatmap(con_mat_df, annot=True,cmap=plt.cm.Blues)\n",
        "plt.tight_layout()\n",
        "plt.ylabel('True label')\n",
        "plt.xlabel('Predicted label')\n",
        "plt.show()"
      ],
      "execution_count": 0,
      "outputs": []
    },
    {
      "cell_type": "markdown",
      "metadata": {
        "id": "-fEe_U2jZck-",
        "colab_type": "text"
      },
      "source": [
        "### Area under Curve"
      ]
    },
    {
      "cell_type": "code",
      "metadata": {
        "id": "xcXenHA0L4Ym",
        "colab_type": "code",
        "colab": {}
      },
      "source": [
        "def multiclass_roc_auc_score(y_test, y_pred, average=\"macro\"):\n",
        "    lb = LabelBinarizer()\n",
        "    lb.fit(y_test)\n",
        "    y_test = lb.transform(y_test)\n",
        "    y_pred = lb.transform(y_pred)\n",
        "\n",
        "    for (idx, c_label) in enumerate(target_names): # all_labels: no of the labels\n",
        "        fpr, tpr, thresholds = roc_curve(y_test, y_pred)\n",
        "        plt.plot(fpr, tpr, label = '%s (AUC:%0.2f)'  % (c_label, auc(fpr, tpr)))\n",
        "    plt.plot(fpr, fpr, 'b-', label = 'Random Guessing')\n",
        "    return roc_auc_score(y_test, y_pred, average=average)\n",
        "multiclass_roc_auc_score(fi1, fi)"
      ],
      "execution_count": 0,
      "outputs": []
    },
    {
      "cell_type": "code",
      "metadata": {
        "id": "zdB1n7uZVrjT",
        "colab_type": "code",
        "colab": {}
      },
      "source": [
        "fpr, tpr, threshold = roc_curve(inte1, inte)\n",
        "roc_auc = auc(fpr, tpr)\n",
        "\n",
        "# method I: plt\n",
        "plt.title('Receiver Operating Characteristic')\n",
        "plt.plot(fpr, tpr, 'b', label = 'AUC = %0.2f' % roc_auc)\n",
        "plt.legend(loc = 'lower right')\n",
        "plt.plot([0, 1], [0, 1],'r--')\n",
        "plt.xlim([0, 1])\n",
        "plt.ylim([0, 1])\n",
        "plt.ylabel('True Positive Rate')\n",
        "plt.xlabel('False Positive Rate')\n",
        "plt.show()"
      ],
      "execution_count": 0,
      "outputs": []
    },
    {
      "cell_type": "markdown",
      "metadata": {
        "id": "_b_2D9HsgmWM",
        "colab_type": "text"
      },
      "source": [
        "## InceptionResNetV2"
      ]
    },
    {
      "cell_type": "code",
      "metadata": {
        "id": "MKTFUFkqgzDJ",
        "colab_type": "code",
        "colab": {}
      },
      "source": [
        "pretrained_model1 = InceptionResNetV2(\n",
        "        include_top=False,\n",
        "        input_shape=(224, 224, 3),\n",
        "        weights='imagenet'\n",
        "    )\n",
        "for layer in pretrained_model1.layers:\n",
        "    layer.trainable = False\n",
        "\n",
        "model1 = Sequential()\n",
        "    # first (and only) set of FC => RELU layers\n",
        "model1.add(AveragePooling2D((2, 2), name='avg_pool'))\n",
        "model1.add(Flatten())\n",
        "model1.add(Dense(128, activation='relu'))\n",
        "model1.add(Dropout(0.2))\n",
        "\n",
        "model1.add(Dense(64, activation='relu'))\n",
        "model1.add(Dropout(0.3))\n",
        "    # softmax classifier\n",
        "model1.add(Dense(2,activation='sigmoid'))\n",
        "\n",
        "\n",
        "\n",
        "pretrainedInput1 = pretrained_model1.input\n",
        "pretrainedOutput1 = pretrained_model1.output\n",
        "output1 = model1(pretrainedOutput1)\n",
        "model1 = Model(pretrainedInput1, output1)\n",
        "model1.compile(loss=\"binary_crossentropy\", optimizer=\"adam\", metrics=[\"accuracy\"])\n",
        "model1.summary()"
      ],
      "execution_count": 0,
      "outputs": []
    },
    {
      "cell_type": "code",
      "metadata": {
        "id": "3HW509iMI73X",
        "colab_type": "code",
        "colab": {}
      },
      "source": [
        "H1 = model1.fit_generator(trainAug.flow(X_train, y_train, batch_size=64), steps_per_epoch=len(X_train)//64, validation_data=(X_val, y_val), validation_steps=len(X_val)//64, epochs=500)\n",
        "#H = model.fit(X_train, y_train, epochs=100, batch_size=16, validation_data=(X_test, y_test))"
      ],
      "execution_count": 0,
      "outputs": []
    },
    {
      "cell_type": "code",
      "metadata": {
        "id": "oRo79UoxKslQ",
        "colab_type": "code",
        "colab": {}
      },
      "source": [
        "# summarize history for accuracy\n",
        "plt.plot(H1.history['accuracy'])\n",
        "plt.plot(H1.history['val_accuracy'])\n",
        "plt.title('model accuracy')\n",
        "plt.ylabel('accuracy')\n",
        "plt.xlabel('epoch')\n",
        "plt.legend(['train', 'val'], loc='lower right')\n",
        "plt.show()\n",
        "# summarize history for loss\n",
        "plt.plot(H1.history['loss'])\n",
        "plt.plot(H1.history['val_loss'])\n",
        "plt.title('model loss')\n",
        "plt.ylabel('loss')\n",
        "plt.xlabel('epoch')\n",
        "plt.legend(['train', 'val'], loc='upper right')\n",
        "plt.show()"
      ],
      "execution_count": 0,
      "outputs": []
    },
    {
      "cell_type": "code",
      "metadata": {
        "id": "vsYOeMStJvr1",
        "colab_type": "code",
        "colab": {}
      },
      "source": [
        "inte11 = onehot_encoder.inverse_transform(y_test)\n",
        "fi11 = label_encoder.inverse_transform(inte11)\n",
        "Y_pred1 = model1.predict(X_test)\n",
        "inte1 = onehot_encoder.inverse_transform(Y_pred1)\n",
        "fi1 = label_encoder.inverse_transform(inte1)"
      ],
      "execution_count": 0,
      "outputs": []
    },
    {
      "cell_type": "code",
      "metadata": {
        "id": "fWlSBkqaJwC4",
        "colab_type": "code",
        "colab": {}
      },
      "source": [
        "print(\"Precision Score : \",precision_score(fi11, fi1, pos_label='Covid', average='binary'))\n",
        "print(\"Recall Score : \",recall_score(fi11, fi1, pos_label='Covid',average='binary'))\n",
        "print('Accuracy Score : ' + str(accuracy_score(fi11,fi1)))\n",
        "print('F1 Score : ' + str(f1_score(fi11,fi1, pos_label='Covid',average='binary')))\n",
        "cm1=confusion_matrix(fi11, fi1)\n",
        "sensitivity1 = cm1[0,0]/(cm1[0,0]+cm1[0,1])\n",
        "print('Sensitivity : ', sensitivity1 )\n",
        "specificity1 = cm1[1,1]/(cm1[1,0]+cm1[1,1])\n",
        "print('Specificity : ', specificity1)"
      ],
      "execution_count": 0,
      "outputs": []
    },
    {
      "cell_type": "code",
      "metadata": {
        "id": "8YVeYj0MJwAE",
        "colab_type": "code",
        "colab": {}
      },
      "source": [
        "print('Confusion Matrix')\n",
        "print(confusion_matrix(fi11, fi1))\n",
        "print('Classification Report')\n",
        "target_names = ['Covid', 'Normal']\n",
        "print(classification_report(fi11, fi1, target_names=target_names))"
      ],
      "execution_count": 0,
      "outputs": []
    },
    {
      "cell_type": "code",
      "metadata": {
        "id": "3k_7nDw5Jv8_",
        "colab_type": "code",
        "colab": {}
      },
      "source": [
        "import seaborn as sns\n",
        "con_mat = confusion_matrix(inte11,inte1)\n",
        "con_mat_norm = np.around(con_mat.astype('float') / con_mat.sum(axis=1)[:, np.newaxis], decimals=2)\n",
        " \n",
        "con_mat_df = pd.DataFrame(con_mat_norm,\n",
        "                     index = target_names, \n",
        "                     columns = target_names)\n",
        "figure = plt.figure(figsize=(8, 8))\n",
        "sns.heatmap(con_mat_df, annot=True,cmap=plt.cm.Blues)\n",
        "plt.tight_layout()\n",
        "plt.ylabel('True label')\n",
        "plt.xlabel('Predicted label')\n",
        "plt.show()"
      ],
      "execution_count": 0,
      "outputs": []
    },
    {
      "cell_type": "code",
      "metadata": {
        "id": "SQT7Yxx4Jv6B",
        "colab_type": "code",
        "colab": {}
      },
      "source": [
        "def multiclass_roc_auc_score(y_test, y_pred, average=\"macro\"):\n",
        "    lb = LabelBinarizer()\n",
        "    lb.fit(y_test)\n",
        "    y_test = lb.transform(y_test)\n",
        "    y_pred = lb.transform(y_pred)\n",
        "\n",
        "    for (idx, c_label) in enumerate(target_names): # all_labels: no of the labels\n",
        "        fpr, tpr, thresholds = roc_curve(y_test, y_pred)\n",
        "        plt.plot(fpr, tpr, label = '%s (AUC:%0.2f)'  % (c_label, auc(fpr, tpr)))\n",
        "    plt.plot(fpr, fpr, 'b-', label = 'Random Guessing')\n",
        "    return roc_auc_score(y_test, y_pred, average=average)\n",
        "multiclass_roc_auc_score(fi11, fi1)"
      ],
      "execution_count": 0,
      "outputs": []
    },
    {
      "cell_type": "code",
      "metadata": {
        "id": "iWvX2gYMJv00",
        "colab_type": "code",
        "colab": {}
      },
      "source": [
        "fpr, tpr, threshold = roc_curve(inte11, inte1)\n",
        "roc_auc = auc(fpr, tpr)\n",
        "\n",
        "# method I: plt\n",
        "plt.title('Receiver Operating Characteristic')\n",
        "plt.plot(fpr, tpr, 'b', label = 'AUC = %0.2f' % roc_auc)\n",
        "plt.legend(loc = 'lower right')\n",
        "plt.plot([0, 1], [0, 1],'r--')\n",
        "plt.xlim([0, 1])\n",
        "plt.ylim([0, 1])\n",
        "plt.ylabel('True Positive Rate')\n",
        "plt.xlabel('False Positive Rate')\n",
        "plt.show()\n"
      ],
      "execution_count": 0,
      "outputs": []
    },
    {
      "cell_type": "markdown",
      "metadata": {
        "id": "p4HWael5gzmr",
        "colab_type": "text"
      },
      "source": [
        "## ResNet152V2"
      ]
    },
    {
      "cell_type": "code",
      "metadata": {
        "id": "XPVETN6cg3zw",
        "colab_type": "code",
        "colab": {}
      },
      "source": [
        "pretrained_model2 = ResNet152V2(\n",
        "        include_top=False,\n",
        "        input_shape=(224, 224, 3),\n",
        "        weights='imagenet'\n",
        "    )\n",
        "for layer in pretrained_model2.layers:\n",
        "    layer.trainable = False\n",
        "\n",
        "model2 = Sequential()\n",
        "    # first (and only) set of FC => RELU layers\n",
        "model2.add(AveragePooling2D((2, 2), name='avg_pool'))\n",
        "model2.add(Flatten())\n",
        "model2.add(Dense(128, activation='relu'))\n",
        "model2.add(Dropout(0.2))\n",
        "\n",
        "model2.add(Dense(64, activation='relu'))\n",
        "model2.add(Dropout(0.3))\n",
        "    # softmax classifier\n",
        "model2.add(Dense(2,activation='sigmoid'))\n",
        "\n",
        "\n",
        "\n",
        "pretrainedInput2 = pretrained_model2.input\n",
        "pretrainedOutput2 = pretrained_model2.output\n",
        "output2 = model2(pretrainedOutput2)\n",
        "model2 = Model(pretrainedInput2, output2)\n",
        "model2.compile(loss=\"binary_crossentropy\", optimizer=\"adam\", metrics=[\"accuracy\"])\n",
        "model2.summary()"
      ],
      "execution_count": 0,
      "outputs": []
    },
    {
      "cell_type": "code",
      "metadata": {
        "id": "B2R2kzFAqv0y",
        "colab_type": "code",
        "colab": {}
      },
      "source": [
        ""
      ],
      "execution_count": 0,
      "outputs": []
    },
    {
      "cell_type": "code",
      "metadata": {
        "id": "GiGALMV7JLS1",
        "colab_type": "code",
        "colab": {}
      },
      "source": [
        "H2 = model2.fit_generator(trainAug.flow(X_train, y_train, batch_size=64), steps_per_epoch=len(X_train)//64, validation_data=(X_val, y_val), validation_steps=len(X_val)//64, epochs=500)\n",
        "#H = model.fit(X_train, y_train, epochs=100, batch_size=16, validation_data=(X_test, y_test))"
      ],
      "execution_count": 0,
      "outputs": []
    },
    {
      "cell_type": "code",
      "metadata": {
        "id": "wPD2pxmla1po",
        "colab_type": "code",
        "colab": {}
      },
      "source": [
        "# summarize history for accuracy\n",
        "plt.plot(H2.history['accuracy'])\n",
        "plt.plot(H2.history['val_accuracy'])\n",
        "plt.title('model accuracy')\n",
        "plt.ylabel('accuracy')\n",
        "plt.xlabel('epoch')\n",
        "plt.legend(['train', 'val'], loc='lower right')\n",
        "plt.show()\n",
        "# summarize history for loss\n",
        "plt.plot(H2.history['loss'])\n",
        "plt.plot(H2.history['val_loss'])\n",
        "plt.title('model loss')\n",
        "plt.ylabel('loss')\n",
        "plt.xlabel('epoch')\n",
        "plt.legend(['train', 'val'], loc='upper right')\n",
        "plt.show()"
      ],
      "execution_count": 0,
      "outputs": []
    },
    {
      "cell_type": "code",
      "metadata": {
        "id": "464iLhTKa19P",
        "colab_type": "code",
        "colab": {}
      },
      "source": [
        "inte12 = onehot_encoder.inverse_transform(y_test)\n",
        "fi12 = label_encoder.inverse_transform(inte12)\n",
        "Y_pred2 = model2.predict(X_test)\n",
        "inte2 = onehot_encoder.inverse_transform(Y_pred2)\n",
        "fi2 = label_encoder.inverse_transform(inte2)"
      ],
      "execution_count": 0,
      "outputs": []
    },
    {
      "cell_type": "code",
      "metadata": {
        "id": "p5gZrtoVa2Jv",
        "colab_type": "code",
        "colab": {}
      },
      "source": [
        "print(\"Precision Score : \",precision_score(fi12, fi2, pos_label='Covid', average='binary'))\n",
        "print(\"Recall Score : \",recall_score(fi12, fi2, pos_label='Covid',average='binary'))\n",
        "print('Accuracy Score : ' + str(accuracy_score(fi12, fi2)))\n",
        "print('F1 Score : ' + str(f1_score(fi12, fi2, pos_label='Covid',average='binary')))\n",
        "cm1=confusion_matrix(fi12, fi2)\n",
        "sensitivity1 = cm1[0,0]/(cm1[0,0]+cm1[0,1])\n",
        "print('Sensitivity : ', sensitivity1 )\n",
        "specificity1 = cm1[1,1]/(cm1[1,0]+cm1[1,1])\n",
        "print('Specificity : ', specificity1)"
      ],
      "execution_count": 0,
      "outputs": []
    },
    {
      "cell_type": "code",
      "metadata": {
        "id": "iph-2P9da2Vf",
        "colab_type": "code",
        "colab": {}
      },
      "source": [
        "print('Confusion Matrix')\n",
        "print(confusion_matrix(fi12, fi2))\n",
        "print('Classification Report')\n",
        "target_names = ['Covid', 'Normal']\n",
        "print(classification_report(fi12, fi2, target_names=target_names))"
      ],
      "execution_count": 0,
      "outputs": []
    },
    {
      "cell_type": "code",
      "metadata": {
        "id": "6KI3-RG-a2kD",
        "colab_type": "code",
        "colab": {}
      },
      "source": [
        "import seaborn as sns\n",
        "con_mat = confusion_matrix(inte12,inte2)\n",
        "con_mat_norm = np.around(con_mat.astype('float') / con_mat.sum(axis=1)[:, np.newaxis], decimals=2)\n",
        " \n",
        "con_mat_df = pd.DataFrame(con_mat_norm,\n",
        "                     index = target_names, \n",
        "                     columns = target_names)\n",
        "figure = plt.figure(figsize=(8, 8))\n",
        "sns.heatmap(con_mat_df, annot=True,cmap=plt.cm.Blues)\n",
        "plt.tight_layout()\n",
        "plt.ylabel('True label')\n",
        "plt.xlabel('Predicted label')\n",
        "plt.show()"
      ],
      "execution_count": 0,
      "outputs": []
    },
    {
      "cell_type": "code",
      "metadata": {
        "id": "kFRiR2laa2uv",
        "colab_type": "code",
        "colab": {}
      },
      "source": [
        "def multiclass_roc_auc_score(y_test, y_pred, average=\"macro\"):\n",
        "    lb = LabelBinarizer()\n",
        "    lb.fit(y_test)\n",
        "    y_test = lb.transform(y_test)\n",
        "    y_pred = lb.transform(y_pred)\n",
        "\n",
        "    for (idx, c_label) in enumerate(target_names): # all_labels: no of the labels\n",
        "        fpr, tpr, thresholds = roc_curve(y_test, y_pred)\n",
        "        plt.plot(fpr, tpr, label = '%s (AUC:%0.2f)'  % (c_label, auc(fpr, tpr)))\n",
        "    plt.plot(fpr, fpr, 'b-', label = 'Random Guessing')\n",
        "    return roc_auc_score(y_test, y_pred, average=average)\n",
        "multiclass_roc_auc_score(fi12, fi2)"
      ],
      "execution_count": 0,
      "outputs": []
    },
    {
      "cell_type": "code",
      "metadata": {
        "id": "luY7knHNa2gX",
        "colab_type": "code",
        "colab": {}
      },
      "source": [
        "fpr, tpr, threshold = roc_curve(inte12, inte2)\n",
        "roc_auc = auc(fpr, tpr)\n",
        "\n",
        "# method I: plt\n",
        "plt.title('Receiver Operating Characteristic')\n",
        "plt.plot(fpr, tpr, 'b', label = 'AUC = %0.2f' % roc_auc)\n",
        "plt.legend(loc = 'lower right')\n",
        "plt.plot([0, 1], [0, 1],'r--')\n",
        "plt.xlim([0, 1])\n",
        "plt.ylim([0, 1])\n",
        "plt.ylabel('True Positive Rate')\n",
        "plt.xlabel('False Positive Rate')\n",
        "plt.show()\n"
      ],
      "execution_count": 0,
      "outputs": []
    },
    {
      "cell_type": "markdown",
      "metadata": {
        "id": "U57_NXs4JNL7",
        "colab_type": "text"
      },
      "source": [
        "## DenseNet201"
      ]
    },
    {
      "cell_type": "code",
      "metadata": {
        "id": "m8AByOKoYbjM",
        "colab_type": "code",
        "colab": {}
      },
      "source": [
        "pretrained_model3 = DenseNet169(\n",
        "        include_top=False,\n",
        "        input_shape=(224, 224, 3),\n",
        "        weights='imagenet'\n",
        "    )\n",
        "for layer in pretrained_model3.layers:\n",
        "    layer.trainable = False\n",
        "\n",
        "model3 = Sequential()\n",
        "    # first (and only) set of FC => RELU layers\n",
        "model3.add(AveragePooling2D((2, 2), name='avg_pool'))\n",
        "model3.add(Flatten())\n",
        "model3.add(Dense(128, activation='relu'))\n",
        "model3.add(Dropout(0.2))\n",
        "\n",
        "model3.add(Dense(64, activation='relu'))\n",
        "model3.add(Dropout(0.3))\n",
        "    # softmax classifier\n",
        "model3.add(Dense(2,activation='sigmoid'))\n",
        "\n",
        "\n",
        "\n",
        "pretrainedInput3 = pretrained_model3.input\n",
        "pretrainedOutput3 = pretrained_model3.output\n",
        "output3 = model3(pretrainedOutput3)\n",
        "model3 = Model(pretrainedInput3, output3)\n",
        "model3.compile(loss=\"binary_crossentropy\", optimizer=\"adam\", metrics=[\"accuracy\"])\n",
        "model3.summary()"
      ],
      "execution_count": 0,
      "outputs": []
    },
    {
      "cell_type": "code",
      "metadata": {
        "id": "Cth5aL-vY0Ry",
        "colab_type": "code",
        "colab": {}
      },
      "source": [
        "H3 = model3.fit_generator(trainAug.flow(X_train, y_train, batch_size=64), steps_per_epoch=len(X_train)//64, validation_data=(X_val, y_val), validation_steps=len(X_val)//64, epochs=500)\n",
        "#H = model.fit(X_train, y_train, epochs=100, batch_size=16, validation_data=(X_test, y_test))"
      ],
      "execution_count": 0,
      "outputs": []
    },
    {
      "cell_type": "code",
      "metadata": {
        "id": "IWhgRxIThxoX",
        "colab_type": "code",
        "colab": {}
      },
      "source": [
        "# summarize history for accuracy\n",
        "plt.plot(H3.history['accuracy'])\n",
        "plt.plot(H3.history['val_accuracy'])\n",
        "plt.title('model accuracy')\n",
        "plt.ylabel('accuracy')\n",
        "plt.xlabel('epoch')\n",
        "plt.legend(['train', 'val'], loc='lower right')\n",
        "plt.show()\n",
        "# summarize history for loss\n",
        "plt.plot(H3.history['loss'])\n",
        "plt.plot(H3.history['val_loss'])\n",
        "plt.title('model loss')\n",
        "plt.ylabel('loss')\n",
        "plt.xlabel('epoch')\n",
        "plt.legend(['train', 'val'], loc='upper right')\n",
        "plt.show()"
      ],
      "execution_count": 0,
      "outputs": []
    },
    {
      "cell_type": "code",
      "metadata": {
        "id": "4Pyon_TdhxvT",
        "colab_type": "code",
        "colab": {}
      },
      "source": [
        "inte13 = onehot_encoder.inverse_transform(y_test)\n",
        "fi13 = label_encoder.inverse_transform(inte13)\n",
        "Y_pred3 = model3.predict(X_test)\n",
        "inte3 = onehot_encoder.inverse_transform(Y_pred3)\n",
        "fi3 = label_encoder.inverse_transform(inte3)"
      ],
      "execution_count": 0,
      "outputs": []
    },
    {
      "cell_type": "code",
      "metadata": {
        "id": "i_LYb_24hx1j",
        "colab_type": "code",
        "colab": {}
      },
      "source": [
        "print(\"Precision Score : \",precision_score(fi13, fi3, pos_label='Covid', average='binary'))\n",
        "print(\"Recall Score : \",recall_score(fi13, fi3, pos_label='Covid',average='binary'))\n",
        "print('Accuracy Score : ' + str(accuracy_score(fi13, fi3)))\n",
        "print('F1 Score : ' + str(f1_score(fi13, fi3, pos_label='Covid',average='binary')))\n",
        "cm1=confusion_matrix(fi13, fi3)\n",
        "sensitivity1 = cm1[0,0]/(cm1[0,0]+cm1[0,1])\n",
        "print('Sensitivity : ', sensitivity1 )\n",
        "specificity1 = cm1[1,1]/(cm1[1,0]+cm1[1,1])\n",
        "print('Specificity : ', specificity1)"
      ],
      "execution_count": 0,
      "outputs": []
    },
    {
      "cell_type": "code",
      "metadata": {
        "id": "Q-jXtt1ChyA2",
        "colab_type": "code",
        "colab": {}
      },
      "source": [
        "print('Confusion Matrix')\n",
        "print(confusion_matrix(fi13, fi3))\n",
        "print('Classification Report')\n",
        "target_names = ['Covid', 'Normal']\n",
        "print(classification_report(fi13, fi3, target_names=target_names))"
      ],
      "execution_count": 0,
      "outputs": []
    },
    {
      "cell_type": "code",
      "metadata": {
        "id": "gyiAvweXhyYV",
        "colab_type": "code",
        "colab": {}
      },
      "source": [
        "import seaborn as sns\n",
        "con_mat = confusion_matrix(inte13,inte3)\n",
        "con_mat_norm = np.around(con_mat.astype('float') / con_mat.sum(axis=1)[:, np.newaxis], decimals=2)\n",
        " \n",
        "con_mat_df = pd.DataFrame(con_mat_norm,\n",
        "                     index = target_names, \n",
        "                     columns = target_names)\n",
        "figure = plt.figure(figsize=(8, 8))\n",
        "sns.heatmap(con_mat_df, annot=True,cmap=plt.cm.Blues)\n",
        "plt.tight_layout()\n",
        "plt.ylabel('True label')\n",
        "plt.xlabel('Predicted label')\n",
        "plt.show()"
      ],
      "execution_count": 0,
      "outputs": []
    },
    {
      "cell_type": "code",
      "metadata": {
        "id": "syHuAPgzhx8a",
        "colab_type": "code",
        "colab": {}
      },
      "source": [
        "def multiclass_roc_auc_score(y_test, y_pred, average=\"macro\"):\n",
        "    lb = LabelBinarizer()\n",
        "    lb.fit(y_test)\n",
        "    y_test = lb.transform(y_test)\n",
        "    y_pred = lb.transform(y_pred)\n",
        "\n",
        "    for (idx, c_label) in enumerate(target_names): # all_labels: no of the labels\n",
        "        fpr, tpr, thresholds = roc_curve(y_test, y_pred)\n",
        "        plt.plot(fpr, tpr, label = '%s (AUC:%0.2f)'  % (c_label, auc(fpr, tpr)))\n",
        "    plt.plot(fpr, fpr, 'b-', label = 'Random Guessing')\n",
        "    return roc_auc_score(y_test, y_pred, average=average)\n",
        "multiclass_roc_auc_score(fi13, fi3)"
      ],
      "execution_count": 0,
      "outputs": []
    },
    {
      "cell_type": "code",
      "metadata": {
        "id": "xQApqXQPiCb5",
        "colab_type": "code",
        "colab": {}
      },
      "source": [
        "fpr, tpr, threshold = roc_curve(inte13, inte3)\n",
        "roc_auc = auc(fpr, tpr)\n",
        "\n",
        "# method I: plt\n",
        "plt.title('Receiver Operating Characteristic')\n",
        "plt.plot(fpr, tpr, 'b', label = 'AUC = %0.2f' % roc_auc)\n",
        "plt.legend(loc = 'lower right')\n",
        "plt.plot([0, 1], [0, 1],'r--')\n",
        "plt.xlim([0, 1])\n",
        "plt.ylim([0, 1])\n",
        "plt.ylabel('True Positive Rate')\n",
        "plt.xlabel('False Positive Rate')\n",
        "plt.show()"
      ],
      "execution_count": 0,
      "outputs": []
    },
    {
      "cell_type": "code",
      "metadata": {
        "id": "aAGchWs4Aqjc",
        "colab_type": "code",
        "colab": {}
      },
      "source": [
        ""
      ],
      "execution_count": 0,
      "outputs": []
    }
  ]
}